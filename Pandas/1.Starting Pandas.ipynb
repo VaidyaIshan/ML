{
 "cells": [
  {
   "metadata": {},
   "cell_type": "code",
   "source": "print(\"Hello World\")",
   "id": "aa0b1891285358cb",
   "outputs": [],
   "execution_count": null
  },
  {
   "metadata": {},
   "cell_type": "code",
   "source": "import pandas as pd",
   "id": "646b1d96c3176d6b",
   "outputs": [],
   "execution_count": null
  },
  {
   "metadata": {},
   "cell_type": "code",
   "source": "df=pd.DataFrame([[1,2,3],[4,5,6],[7,8,9]],columns=['A','B','C'],index=['X','Y','Z'])\n",
   "id": "5f1608205ef0db81",
   "outputs": [],
   "execution_count": null
  },
  {
   "metadata": {},
   "cell_type": "code",
   "source": "print(df)",
   "id": "29c0977591ace16e",
   "outputs": [],
   "execution_count": null
  },
  {
   "metadata": {},
   "cell_type": "code",
   "source": "df.index",
   "id": "c275dd0d7048cbf3",
   "outputs": [],
   "execution_count": null
  },
  {
   "metadata": {},
   "cell_type": "code",
   "source": "df.columns",
   "id": "b8c25af9477622e0",
   "outputs": [],
   "execution_count": null
  },
  {
   "metadata": {},
   "cell_type": "code",
   "source": "df",
   "id": "b6069fc7ac8a0a42",
   "outputs": [],
   "execution_count": null
  },
  {
   "metadata": {},
   "cell_type": "code",
   "source": "df.info()",
   "id": "5f3c261bb5b88bbd",
   "outputs": [],
   "execution_count": null
  },
  {
   "metadata": {},
   "cell_type": "code",
   "source": "df.describe()",
   "id": "55d81924b73f0403",
   "outputs": [],
   "execution_count": null
  },
  {
   "metadata": {},
   "cell_type": "code",
   "source": "df=pd.read_csv('../Data/coffee.csv')",
   "id": "301486c188b93159",
   "outputs": [],
   "execution_count": null
  },
  {
   "metadata": {},
   "cell_type": "code",
   "source": "print(df)",
   "id": "c767a57fbd49adef",
   "outputs": [],
   "execution_count": null
  },
  {
   "metadata": {
    "data_wrangler": {
     "input_variable_name": "bios",
     "source": "",
     "table_info": {
      "columnTypes": [
       "int64",
       "O",
       "O",
       "O",
       "O",
       "O",
       "O",
       "float64",
       "float64",
       "O"
      ],
      "columnNames": [
       "athlete_id",
       "name",
       "born_date",
       "born_city",
       "born_region",
       "born_country",
       "NOC",
       "height_cm",
       "weight_kg",
       "died_date"
      ]
     },
     "variable_name": "bios"
    }
   },
   "cell_type": "code",
   "source": "",
   "id": "c08e415b87d1d530",
   "outputs": [],
   "execution_count": null
  },
  {
   "metadata": {},
   "cell_type": "code",
   "source": [
    "\n",
    "result=pd.read_csv('../Cloned_Repos/complete-pandas-tutorial/data/results.csv')"
   ],
   "id": "360da3601c1ccb12",
   "outputs": [],
   "execution_count": null
  },
  {
   "metadata": {},
   "cell_type": "code",
   "source": "print(result)",
   "id": "630dbe14455692b3",
   "outputs": [],
   "execution_count": null
  },
  {
   "metadata": {},
   "cell_type": "code",
   "source": "result.head()",
   "id": "a0876674e1aa7c0a",
   "outputs": [],
   "execution_count": null
  },
  {
   "metadata": {},
   "cell_type": "code",
   "source": "result.describe()",
   "id": "d1fe5c1267b34a32",
   "outputs": [],
   "execution_count": null
  },
  {
   "metadata": {},
   "cell_type": "code",
   "source": "df.describe()",
   "id": "f180a69da517cba4",
   "outputs": [],
   "execution_count": null
  },
  {
   "metadata": {
    "import_data_from_file": {
     "file_name": "../Cloned_Repos/complete-pandas-tutorial/data/bios.csv",
     "variable_name": "bios"
    }
   },
   "cell_type": "code",
   "source": [
    "import pandas as pd\n",
    "bios = pd.read_csv('../Cloned_Repos/complete-pandas-tutorial/data/bios.csv')\n",
    "bios"
   ],
   "id": "908bda5e555f2db6",
   "outputs": [],
   "execution_count": null
  },
  {
   "metadata": {},
   "cell_type": "markdown",
   "source": "",
   "id": "f4a810ef19dd4d53"
  },
  {
   "metadata": {},
   "cell_type": "code",
   "source": "bios=pd.read_csv('../Cloned_Repos/complete-pandas-tutorial/data/bios.csv')",
   "id": "d0d813634a1596b6",
   "outputs": [],
   "execution_count": null
  },
  {
   "metadata": {},
   "cell_type": "code",
   "source": "bios.sample(5)",
   "id": "67c5d1d0fb413795",
   "outputs": [],
   "execution_count": null
  },
  {
   "metadata": {},
   "cell_type": "code",
   "source": "bios.iloc[1]",
   "id": "64fec5e923aa1821",
   "outputs": [],
   "execution_count": null
  },
  {
   "metadata": {},
   "cell_type": "code",
   "source": "bios.loc[bios['name'].str.contains('Ishan', case=False)]",
   "id": "9126ab15fb682d7f",
   "outputs": [],
   "execution_count": null
  },
  {
   "metadata": {},
   "cell_type": "code",
   "source": "bios.loc[(bios['born_country']=='IND') & (bios['name'].str.contains('Ishan',case=False))]",
   "id": "84538a9e52396390",
   "outputs": [],
   "execution_count": null
  },
  {
   "metadata": {},
   "cell_type": "code",
   "source": "bios.sort_values('athlete_id' , ascending=False).head(3).sample(2)",
   "id": "55768ef29979fbb8",
   "outputs": [],
   "execution_count": null
  },
  {
   "metadata": {},
   "cell_type": "code",
   "source": "bios.rename(columns={'athlete_id':'id'})",
   "id": "8a3c720115816031",
   "outputs": [],
   "execution_count": null
  },
  {
   "metadata": {},
   "cell_type": "code",
   "source": "bios.isnull().sum()",
   "id": "3c3db669f774497c",
   "outputs": [],
   "execution_count": null
  },
  {
   "metadata": {},
   "cell_type": "code",
   "source": "bios.dropna()",
   "id": "df150ac49a771af1",
   "outputs": [],
   "execution_count": null
  },
  {
   "metadata": {},
   "cell_type": "code",
   "source": "bios['height_cm'].corr(bios['weight_kg'])",
   "id": "53c03607266480c0",
   "outputs": [],
   "execution_count": null
  },
  {
   "metadata": {},
   "cell_type": "code",
   "source": "bios.groupby('athlete_id').mean(numeric_only=True)",
   "id": "8900780a85902a5e",
   "outputs": [],
   "execution_count": null
  },
  {
   "metadata": {},
   "cell_type": "code",
   "source": "",
   "id": "1dc2a0f855e58b78",
   "outputs": [],
   "execution_count": null
  }
 ],
 "metadata": {
  "kernelspec": {
   "display_name": "Python 3",
   "language": "python",
   "name": "python3"
  },
  "language_info": {
   "codemirror_mode": {
    "name": "ipython",
    "version": 2
   },
   "file_extension": ".py",
   "mimetype": "text/x-python",
   "name": "python",
   "nbconvert_exporter": "python",
   "pygments_lexer": "ipython2",
   "version": "2.7.6"
  }
 },
 "nbformat": 4,
 "nbformat_minor": 5
}
